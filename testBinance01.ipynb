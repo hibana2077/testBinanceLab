{
  "nbformat": 4,
  "nbformat_minor": 0,
  "metadata": {
    "colab": {
      "name": "testBinance01.ipynb",
      "provenance": [],
      "authorship_tag": "ABX9TyM4GMy5isetpwWEztH2SFj5",
      "include_colab_link": true
    },
    "kernelspec": {
      "name": "python3",
      "display_name": "Python 3"
    },
    "language_info": {
      "name": "python"
    }
  },
  "cells": [
    {
      "cell_type": "markdown",
      "metadata": {
        "id": "view-in-github",
        "colab_type": "text"
      },
      "source": [
        "<a href=\"https://colab.research.google.com/github/hibana2077/testBinanceLab/blob/main/testBinance01.ipynb\" target=\"_parent\"><img src=\"https://colab.research.google.com/assets/colab-badge.svg\" alt=\"Open In Colab\"/></a>"
      ]
    },
    {
      "cell_type": "code",
      "execution_count": 1,
      "metadata": {
        "id": "1zKuAZflY8Zl"
      },
      "outputs": [],
      "source": [
        "!touch require.txt"
      ]
    },
    {
      "cell_type": "code",
      "source": [
        "!echo \"ccxt\" >> require.txt"
      ],
      "metadata": {
        "id": "nXZnzkjQZKUU"
      },
      "execution_count": 2,
      "outputs": []
    },
    {
      "cell_type": "code",
      "source": [
        "!echo \"python-binance\" >> require.txt"
      ],
      "metadata": {
        "id": "78gnJDQWZlsM"
      },
      "execution_count": 3,
      "outputs": []
    },
    {
      "cell_type": "code",
      "source": [
        "!pip install -r require.txt"
      ],
      "metadata": {
        "id": "KHSmuo33ah_l"
      },
      "execution_count": null,
      "outputs": []
    },
    {
      "cell_type": "code",
      "source": [
        "pip install --upgrade tensorflow"
      ],
      "metadata": {
        "id": "ThJlwOmSa1E0"
      },
      "execution_count": null,
      "outputs": []
    },
    {
      "cell_type": "code",
      "source": [
        "!touch passwd.py\n",
        "!echo \"API_KEY = 'yourAPI'\" >> passwd.py\n",
        "!echo \"API_SECRET = 'yourAPIS'\" >> passwd.py"
      ],
      "metadata": {
        "id": "LtYllrA0eXVe"
      },
      "execution_count": 4,
      "outputs": []
    },
    {
      "cell_type": "code",
      "source": [
        "import binance as pybi\n",
        "import ccxt,passwd\n",
        "\n",
        "client = pybi.Client(passwd.API_KEY,passwd.API_SECRET)\n",
        "for t in ccxt.exchanges:print(t)"
      ],
      "metadata": {
        "colab": {
          "base_uri": "https://localhost:8080/"
        },
        "id": "oiPiqaEuZ9eS",
        "outputId": "9fdd9ece-db44-4f03-d3e1-9183a5d949f4"
      },
      "execution_count": 5,
      "outputs": [
        {
          "output_type": "stream",
          "name": "stdout",
          "text": [
            "aax\n",
            "ascendex\n",
            "bequant\n",
            "bibox\n",
            "bigone\n",
            "binance\n",
            "binancecoinm\n",
            "binanceus\n",
            "binanceusdm\n",
            "bit2c\n",
            "bitbank\n",
            "bitbay\n",
            "bitbns\n",
            "bitcoincom\n",
            "bitfinex\n",
            "bitfinex2\n",
            "bitflyer\n",
            "bitforex\n",
            "bitget\n",
            "bithumb\n",
            "bitmart\n",
            "bitmex\n",
            "bitopro\n",
            "bitpanda\n",
            "bitrue\n",
            "bitso\n",
            "bitstamp\n",
            "bitstamp1\n",
            "bittrex\n",
            "bitvavo\n",
            "bkex\n",
            "bl3p\n",
            "blockchaincom\n",
            "btcalpha\n",
            "btcbox\n",
            "btcmarkets\n",
            "btctradeua\n",
            "btcturk\n",
            "buda\n",
            "bw\n",
            "bybit\n",
            "bytetrade\n",
            "cdax\n",
            "cex\n",
            "coinbase\n",
            "coinbaseprime\n",
            "coinbasepro\n",
            "coincheck\n",
            "coinex\n",
            "coinfalcon\n",
            "coinmate\n",
            "coinone\n",
            "coinspot\n",
            "crex24\n",
            "cryptocom\n",
            "currencycom\n",
            "delta\n",
            "deribit\n",
            "digifinex\n",
            "eqonex\n",
            "exmo\n",
            "flowbtc\n",
            "fmfwio\n",
            "ftx\n",
            "ftxus\n",
            "gateio\n",
            "gemini\n",
            "hitbtc\n",
            "hitbtc3\n",
            "hollaex\n",
            "huobi\n",
            "huobijp\n",
            "huobipro\n",
            "idex\n",
            "independentreserve\n",
            "indodax\n",
            "itbit\n",
            "kraken\n",
            "kucoin\n",
            "kucoinfutures\n",
            "kuna\n",
            "latoken\n",
            "lbank\n",
            "liquid\n",
            "luno\n",
            "lykke\n",
            "mercado\n",
            "mexc\n",
            "ndax\n",
            "novadax\n",
            "oceanex\n",
            "okcoin\n",
            "okex\n",
            "okex5\n",
            "okx\n",
            "paymium\n",
            "phemex\n",
            "poloniex\n",
            "probit\n",
            "qtrade\n",
            "ripio\n",
            "stex\n",
            "therock\n",
            "tidebit\n",
            "tidex\n",
            "timex\n",
            "upbit\n",
            "vcc\n",
            "wavesexchange\n",
            "wazirx\n",
            "whitebit\n",
            "woo\n",
            "xena\n",
            "yobit\n",
            "zaif\n",
            "zb\n",
            "zipmex\n",
            "zonda\n"
          ]
        }
      ]
    }
  ]
}
